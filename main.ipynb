{
 "cells": [
  {
   "cell_type": "code",
   "execution_count": 25,
   "metadata": {},
   "outputs": [
    {
     "name": "stdout",
     "output_type": "stream",
     "text": [
      "3.5.0\n"
     ]
    }
   ],
   "source": [
    "import pyspark\n",
    "from pyspark.sql.types import *\n",
    "import pyspark.sql.functions as f \n",
    "import requests\n",
    "import json\n",
    "from pyspark.sql import SparkSession\n",
    "\n",
    "spark=SparkSession.\\\n",
    "    builder.\\\n",
    "    appName(\"Transactions\").\\\n",
    "    getOrCreate()\n",
    "\n",
    "\n",
    "claim_schema=StructType([\n",
    "    StructField(\"SOURCE_SYSTEM\", StringType()),\n",
    "    StructField(\"CLAIM_ID\", StringType()),\n",
    "    StructField(\"CONTRACT_SOURCE_SYSTEM\", StringType()),\n",
    "    StructField(\"CONTRACT_ID\", IntegerType()),\n",
    "    StructField(\"CLAIM_TYPE\", StringType()),\n",
    "    StructField(\"DATE_OF_LOSS\", StringType()),\n",
    "    StructField(\"AMOUNT\", DecimalType(16,5)),\n",
    "    StructField(\"CREATION_DATE\", StringType()),\n",
    "])\n",
    "\n",
    "contract_schema=StructType([\n",
    "    StructField(\"SOURCE_SYSTEM\", StringType()),\n",
    "    StructField(\"CONTRACT_ID\", StringType()),\n",
    "    StructField(\"CONTRACT_TYPE\", StringType()),\n",
    "    StructField(\"INSURED_PERIOD_FROM\", StringType()),\n",
    "    StructField(\"INSURED_PERIOD_TO\", StringType()),\n",
    "    StructField(\"CREATION_DATE\", StringType())\n",
    "])\n",
    "\n",
    "def read_csv(file_name,schema):\n",
    "    df=(spark.read.option(\"header\",True).csv(file_name,schema=schema))\n",
    "    return(df)\n",
    "\n",
    "def convert_timestamp(df,col_ts):\n",
    "    df=(df.withColumn(col_ts,f.to_timestamp(f.trim(f.col(col_ts)),\"dd.MM.yyyy HH:mm\")))\n",
    "    return(df)\n",
    "def convert_date(df,col_date):\n",
    "    df=df.withColumn(col_date,f.to_date(f.trim(f.col(col_date)),\"dd.MM.yyyy\"))\n",
    "    return(df)\n",
    "\n",
    "def get_nse_id(claim_id):\n",
    "    try:\n",
    "        response=requests.get(f\"https://api.hashify.net/hash/md4/hex?value={claim_id}\")\n",
    "        data = json.loads(response.text)\n",
    "        return(data['Digest'])\n",
    "    except Exception as e:\n",
    "        return e\n"
   ]
  },
  {
   "cell_type": "code",
   "execution_count": 2,
   "metadata": {},
   "outputs": [],
   "source": [
    "claim_df=read_csv(\"claim.csv\",claim_schema)\n",
    "\n",
    "contract_df=read_csv(\"contract.csv\",contract_schema)"
   ]
  },
  {
   "cell_type": "code",
   "execution_count": 3,
   "metadata": {},
   "outputs": [
    {
     "name": "stdout",
     "output_type": "stream",
     "text": [
      "+-----------------+-----------+----------------------+-----------+----------+------------+-----------+-------------------+\n",
      "|    SOURCE_SYSTEM|   CLAIM_ID|CONTRACT_SOURCE_SYSTEM|CONTRACT_ID|CLAIM_TYPE|DATE_OF_LOSS|     AMOUNT|      CREATION_DATE|\n",
      "+-----------------+-----------+----------------------+-----------+----------+------------+-----------+-------------------+\n",
      "|Claim_SR_Europa_3|CL_68545123|  Contract_SR_Europa_3|   97563756|         2|  2021-02-14|  523.21000|2022-01-17 14:45:00|\n",
      "|Claim_SR_Europa_3|  CL_962234|  Contract_SR_Europa_4|  408124123|         1|  2021-01-30|52369.00000|2022-01-17 14:46:00|\n",
      "|Claim_SR_Europa_3|  CL_895168|  Contract_SR_Europa_3|   13767503|      NULL|  2020-09-02|98465.00000|2022-01-17 14:45:00|\n",
      "|Claim_SR_Europa_3|CX_12066501|  Contract_SR_Europa_3|  656948536|         2|  2022-01-04| 9000.00000|2022-01-17 14:45:00|\n",
      "|Claim_SR_Europa_3| RX_9845163|  Contract_SR_Europa_3|  656948536|         2|  2015-06-04|11000.00000|2022-01-17 14:45:00|\n",
      "|Claim_SR_Europa_3|CL_39904634|  Contract_SR_Europa_3|  656948536|         2|  2020-11-04|11000.00000|2022-01-17 14:46:00|\n",
      "|Claim_SR_Europa_3|  U_7065313|  Contract_SR_Europa_3|   46589516|         1|  2021-09-29|11000.00000|2022-01-17 14:46:00|\n",
      "+-----------------+-----------+----------------------+-----------+----------+------------+-----------+-------------------+\n",
      "\n"
     ]
    }
   ],
   "source": [
    "col_ts=\"CREATION_DATE\"\n",
    "col_date=\"DATE_OF_LOSS\"\n",
    "\n",
    "claim_df=convert_timestamp(claim_df,\"CREATION_DATE\")\n",
    "claim_df=convert_date(claim_df,\"DATE_OF_LOSS\")\n",
    "claim_df.show()"
   ]
  },
  {
   "cell_type": "code",
   "execution_count": 6,
   "metadata": {},
   "outputs": [
    {
     "name": "stdout",
     "output_type": "stream",
     "text": [
      "+--------------------+-----------+-------------+-------------------+-----------------+-------------------+\n",
      "|       SOURCE_SYSTEM|CONTRACT_ID|CONTRACT_TYPE|INSURED_PERIOD_FROM|INSURED_PERIOD_TO|      CREATION_DATE|\n",
      "+--------------------+-----------+-------------+-------------------+-----------------+-------------------+\n",
      "|Contract_SR_Europa_3|  408124123|       Direct|         2015-01-01|       2099-01-01|2022-01-17 13:42:00|\n",
      "|Contract_SR_Europa_3|   46784575|       Direct|         2015-01-01|       2099-01-01|2022-01-17 13:42:00|\n",
      "|Contract_SR_Europa_3|   97563756|             |         2015-01-01|       2099-01-01|2022-01-17 13:42:00|\n",
      "|Contract_SR_Europa_3|   13767503|  Reinsurance|         2015-01-01|       2099-01-01|2022-01-17 13:42:00|\n",
      "|Contract_SR_Europa_3|  656948536|             |         2015-01-01|       2099-01-01|2022-01-17 13:42:00|\n",
      "+--------------------+-----------+-------------+-------------------+-----------------+-------------------+\n",
      "\n"
     ]
    }
   ],
   "source": [
    "contract_df=convert_timestamp(contract_df,\"CREATION_DATE\")\n",
    "contract_df=convert_date(contract_df,\"INSURED_PERIOD_FROM\")\n",
    "contract_df=convert_date(contract_df,\"INSURED_PERIOD_TO\")\n",
    "contract_df=contract_df.withColumn(\"CONTRACT_ID\",f.col(\"CONTRACT_ID\").cast(IntegerType()))\n",
    "contract_df.show()"
   ]
  },
  {
   "cell_type": "code",
   "execution_count": 15,
   "metadata": {},
   "outputs": [],
   "source": [
    "\n",
    "get_nse_id_udf=f.udf(get_nse_id, StringType())\n",
    "\n",
    "final_df=(claim_df.alias('c')\n",
    ".join(contract_df.alias('co'),on=['CONTRACT_ID'],how='inner')\n",
    ".selectExpr(\"'Europe 3' as CONTRACT_SOURCE_SYSTEM\",\n",
    "    \"co.CONTRACT_ID as CONTRACT_SOURCE_SYSTEM_ID\",\n",
    "    \"CLAIM_ID\",\n",
    "    \"split(CLAIM_ID,'_')[1] as SOURCE_SYSTEM_ID\",\n",
    "    \"\"\"case \n",
    "    when CLAIM_TYPE = 2 then 'Corporate'\n",
    "    when CLAIM_TYPE = 1 then 'Private'\n",
    "    else 'Unknown' end as TRANSACTION_TYPE\"\"\",\n",
    "    \"\"\"case\n",
    "    when CLAIM_ID like 'CL%' then 'COINSURANCE'\n",
    "    when CLAIM_ID like 'RX%' then 'REINSURANCE'\n",
    "    end as TRANSACTION_DIRECTION\"\"\",\n",
    "    \"c.AMOUNT as CONFORMED_VALUE\",\n",
    "    \"c.DATE_OF_LOSS as BUSINESS_DATE\",\n",
    "    \"c.CREATION_DATE as CREATION_DATE\",\n",
    "    \"current_date() as SYSTEM_TIMESTAMP\"\n",
    "    )\n",
    ".withColumn(\"NSE_ID\",get_nse_id_udf(f.col('CLAIM_ID')))\n",
    ")"
   ]
  },
  {
   "cell_type": "code",
   "execution_count": 16,
   "metadata": {},
   "outputs": [
    {
     "name": "stdout",
     "output_type": "stream",
     "text": [
      "+----------------------+-------------------------+-----------+----------------+----------------+---------------------+---------------+-------------+-------------------+----------------+\n",
      "|CONTRACT_SOURCE_SYSTEM|CONTRACT_SOURCE_SYSTEM_ID|   CLAIM_ID|SOURCE_SYSTEM_ID|TRANSACTION_TYPE|TRANSACTION_DIRECTION|CONFORMED_VALUE|BUSINESS_DATE|      CREATION_DATE|SYSTEM_TIMESTAMP|\n",
      "+----------------------+-------------------------+-----------+----------------+----------------+---------------------+---------------+-------------+-------------------+----------------+\n",
      "|              Europe 3|                 97563756|CL_68545123|        68545123|       Corporate|          COINSURANCE|      523.21000|   2021-02-14|2022-01-17 14:45:00|      2024-06-19|\n",
      "|              Europe 3|                408124123|  CL_962234|          962234|         Private|          COINSURANCE|    52369.00000|   2021-01-30|2022-01-17 14:46:00|      2024-06-19|\n",
      "|              Europe 3|                 13767503|  CL_895168|          895168|         Unknown|          COINSURANCE|    98465.00000|   2020-09-02|2022-01-17 14:45:00|      2024-06-19|\n",
      "|              Europe 3|                656948536|CX_12066501|        12066501|       Corporate|                 NULL|     9000.00000|   2022-01-04|2022-01-17 14:45:00|      2024-06-19|\n",
      "|              Europe 3|                656948536| RX_9845163|         9845163|       Corporate|          REINSURANCE|    11000.00000|   2015-06-04|2022-01-17 14:45:00|      2024-06-19|\n",
      "|              Europe 3|                656948536|CL_39904634|        39904634|       Corporate|          COINSURANCE|    11000.00000|   2020-11-04|2022-01-17 14:46:00|      2024-06-19|\n",
      "+----------------------+-------------------------+-----------+----------------+----------------+---------------------+---------------+-------------+-------------------+----------------+\n",
      "\n"
     ]
    }
   ],
   "source": [
    "final_df.show()"
   ]
  }
 ],
 "metadata": {
  "kernelspec": {
   "display_name": "Python 3.9.5 64-bit",
   "language": "python",
   "name": "python3"
  },
  "language_info": {
   "codemirror_mode": {
    "name": "ipython",
    "version": 3
   },
   "file_extension": ".py",
   "mimetype": "text/x-python",
   "name": "python",
   "nbconvert_exporter": "python",
   "pygments_lexer": "ipython3",
   "version": "3.9.5"
  },
  "orig_nbformat": 4,
  "vscode": {
   "interpreter": {
    "hash": "5f987e846d308aa60315ab5ab4a074ac8ea961622d2cd54c78aadc70f4253779"
   }
  }
 },
 "nbformat": 4,
 "nbformat_minor": 2
}
