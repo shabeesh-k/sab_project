{
 "cells": [
  {
   "cell_type": "code",
   "execution_count": 8,
   "metadata": {},
   "outputs": [],
   "source": [
    "from utils import *"
   ]
  },
  {
   "cell_type": "code",
   "execution_count": 9,
   "metadata": {},
   "outputs": [
    {
     "ename": "NameError",
     "evalue": "name 'StructType' is not defined",
     "output_type": "error",
     "traceback": [
      "\u001b[1;31m---------------------------------------------------------------------------\u001b[0m",
      "\u001b[1;31mNameError\u001b[0m                                 Traceback (most recent call last)",
      "Cell \u001b[1;32mIn [9], line 1\u001b[0m\n\u001b[1;32m----> 1\u001b[0m claim_schema\u001b[38;5;241m=\u001b[39m\u001b[43mStructType\u001b[49m([\n\u001b[0;32m      2\u001b[0m     StructField(\u001b[38;5;124m\"\u001b[39m\u001b[38;5;124mSOURCE_SYSTEM\u001b[39m\u001b[38;5;124m\"\u001b[39m, StringType()),\n\u001b[0;32m      3\u001b[0m     StructField(\u001b[38;5;124m\"\u001b[39m\u001b[38;5;124mCLAIM_ID\u001b[39m\u001b[38;5;124m\"\u001b[39m, StringType()),\n\u001b[0;32m      4\u001b[0m     StructField(\u001b[38;5;124m\"\u001b[39m\u001b[38;5;124mCONTRACT_SOURCE_SYSTEM\u001b[39m\u001b[38;5;124m\"\u001b[39m, StringType()),\n\u001b[0;32m      5\u001b[0m     StructField(\u001b[38;5;124m\"\u001b[39m\u001b[38;5;124mCONTRACT_ID\u001b[39m\u001b[38;5;124m\"\u001b[39m, IntegerType()),\n\u001b[0;32m      6\u001b[0m     StructField(\u001b[38;5;124m\"\u001b[39m\u001b[38;5;124mCLAIM_TYPE\u001b[39m\u001b[38;5;124m\"\u001b[39m, StringType()),\n\u001b[0;32m      7\u001b[0m     StructField(\u001b[38;5;124m\"\u001b[39m\u001b[38;5;124mDATE_OF_LOSS\u001b[39m\u001b[38;5;124m\"\u001b[39m, StringType()),\n\u001b[0;32m      8\u001b[0m     StructField(\u001b[38;5;124m\"\u001b[39m\u001b[38;5;124mAMOUNT\u001b[39m\u001b[38;5;124m\"\u001b[39m, DecimalType(\u001b[38;5;241m16\u001b[39m,\u001b[38;5;241m5\u001b[39m)),\n\u001b[0;32m      9\u001b[0m     StructField(\u001b[38;5;124m\"\u001b[39m\u001b[38;5;124mCREATION_DATE\u001b[39m\u001b[38;5;124m\"\u001b[39m, StringType()),\n\u001b[0;32m     10\u001b[0m ])\n\u001b[0;32m     12\u001b[0m contract_schema\u001b[38;5;241m=\u001b[39mStructType([\n\u001b[0;32m     13\u001b[0m     StructField(\u001b[38;5;124m\"\u001b[39m\u001b[38;5;124mSOURCE_SYSTEM\u001b[39m\u001b[38;5;124m\"\u001b[39m, StringType()),\n\u001b[0;32m     14\u001b[0m     StructField(\u001b[38;5;124m\"\u001b[39m\u001b[38;5;124mCONTRACT_ID\u001b[39m\u001b[38;5;124m\"\u001b[39m, StringType()),\n\u001b[1;32m   (...)\u001b[0m\n\u001b[0;32m     18\u001b[0m     StructField(\u001b[38;5;124m\"\u001b[39m\u001b[38;5;124mCREATION_DATE\u001b[39m\u001b[38;5;124m\"\u001b[39m, StringType())\n\u001b[0;32m     19\u001b[0m ])\n",
      "\u001b[1;31mNameError\u001b[0m: name 'StructType' is not defined"
     ]
    }
   ],
   "source": [
    "claim_schema=StructType([\n",
    "    StructField(\"SOURCE_SYSTEM\", StringType()),\n",
    "    StructField(\"CLAIM_ID\", StringType()),\n",
    "    StructField(\"CONTRACT_SOURCE_SYSTEM\", StringType()),\n",
    "    StructField(\"CONTRACT_ID\", IntegerType()),\n",
    "    StructField(\"CLAIM_TYPE\", StringType()),\n",
    "    StructField(\"DATE_OF_LOSS\", StringType()),\n",
    "    StructField(\"AMOUNT\", DecimalType(16,5)),\n",
    "    StructField(\"CREATION_DATE\", StringType()),\n",
    "])\n",
    "\n",
    "contract_schema=StructType([\n",
    "    StructField(\"SOURCE_SYSTEM\", StringType()),\n",
    "    StructField(\"CONTRACT_ID\", StringType()),\n",
    "    StructField(\"CONTRACT_TYPE\", StringType()),\n",
    "    StructField(\"INSURED_PERIOD_FROM\", StringType()),\n",
    "    StructField(\"INSURED_PERIOD_TO\", StringType()),\n",
    "    StructField(\"CREATION_DATE\", StringType())\n",
    "])"
   ]
  },
  {
   "cell_type": "code",
   "execution_count": 2,
   "metadata": {},
   "outputs": [
    {
     "ename": "NameError",
     "evalue": "name 'claim_schema' is not defined",
     "output_type": "error",
     "traceback": [
      "\u001b[1;31m---------------------------------------------------------------------------\u001b[0m",
      "\u001b[1;31mNameError\u001b[0m                                 Traceback (most recent call last)",
      "Cell \u001b[1;32mIn [2], line 1\u001b[0m\n\u001b[1;32m----> 1\u001b[0m claim_df\u001b[38;5;241m=\u001b[39mread_csv(\u001b[38;5;124m\"\u001b[39m\u001b[38;5;124mclaim.csv\u001b[39m\u001b[38;5;124m\"\u001b[39m,\u001b[43mclaim_schema\u001b[49m)\n\u001b[0;32m      3\u001b[0m contract_df\u001b[38;5;241m=\u001b[39mread_csv(\u001b[38;5;124m\"\u001b[39m\u001b[38;5;124mcontract.csv\u001b[39m\u001b[38;5;124m\"\u001b[39m,contract_schema)\n",
      "\u001b[1;31mNameError\u001b[0m: name 'claim_schema' is not defined"
     ]
    }
   ],
   "source": [
    "claim_df=read_csv(\"claim.csv\",claim_schema)\n",
    "\n",
    "contract_df=read_csv(\"contract.csv\",contract_schema)"
   ]
  }
 ],
 "metadata": {
  "kernelspec": {
   "display_name": "Python 3.9.5 64-bit",
   "language": "python",
   "name": "python3"
  },
  "language_info": {
   "codemirror_mode": {
    "name": "ipython",
    "version": 3
   },
   "file_extension": ".py",
   "mimetype": "text/x-python",
   "name": "python",
   "nbconvert_exporter": "python",
   "pygments_lexer": "ipython3",
   "version": "3.9.5"
  },
  "orig_nbformat": 4,
  "vscode": {
   "interpreter": {
    "hash": "5f987e846d308aa60315ab5ab4a074ac8ea961622d2cd54c78aadc70f4253779"
   }
  }
 },
 "nbformat": 4,
 "nbformat_minor": 2
}
